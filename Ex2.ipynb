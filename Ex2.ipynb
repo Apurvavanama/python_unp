{
  "nbformat": 4,
  "nbformat_minor": 0,
  "metadata": {
    "kernelspec": {
      "display_name": "Python 3",
      "language": "python",
      "name": "python3"
    },
    "language_info": {
      "codemirror_mode": {
        "name": "ipython",
        "version": 3
      },
      "file_extension": ".py",
      "mimetype": "text/x-python",
      "name": "python",
      "nbconvert_exporter": "python",
      "pygments_lexer": "ipython3",
      "version": "3.7.3"
    },
    "learntools_metadata": {
      "lesson_index": 1,
      "type": "exercise"
    },
    "colab": {
      "name": "Ex2.ipynb",
      "provenance": [],
      "include_colab_link": true
    }
  },
  "cells": [
    {
      "cell_type": "markdown",
      "metadata": {
        "id": "view-in-github",
        "colab_type": "text"
      },
      "source": [
        "<a href=\"https://colab.research.google.com/github/Apurvavanama/python_unp/blob/main/Ex2.ipynb\" target=\"_parent\"><img src=\"https://colab.research.google.com/assets/colab-badge.svg\" alt=\"Open In Colab\"/></a>"
      ]
    },
    {
      "cell_type": "markdown",
      "metadata": {
        "id": "T_EN9awy6VC_"
      },
      "source": [
        "Functions are powerful. Try writing some yourself.\n",
        "\n",
        "As before, don't forget to run the setup code below before jumping into question 1."
      ]
    },
    {
      "cell_type": "code",
      "metadata": {
        "_kg_hide-input": true,
        "_kg_hide-output": true,
        "id": "QzvlwDS06VDB"
      },
      "source": [
        "# SETUP - Refer to Ex 1\n",
        "from learntools.core import binder; binder.bind(globals())\n",
        "from learntools.python.ex2 import *\n",
        "print('Setup complete.')"
      ],
      "execution_count": null,
      "outputs": []
    },
    {
      "cell_type": "code",
      "metadata": {
        "colab": {
          "base_uri": "https://localhost:8080/",
          "height": 275
        },
        "id": "kpaxzPdx6ixM",
        "outputId": "ce4b8b77-7d16-447f-ee03-f4d241853ddc"
      },
      "source": [
        "!pip install git+https://github.com/ML-Challenge/learntools.git\n",
        "from learntools.core import binder; binder.bind(globals())\n",
        "from learntools.python.ex1 import *\n",
        "print(\"setup complete!\")\n",
        "pi=3.14159\n",
        "diameter= 3\n",
        "radius= diameter/2\n",
        "area= pi*(radius**2)\n",
        "print(area)\n",
        "q1.check()\n"
      ],
      "execution_count": 1,
      "outputs": [
        {
          "output_type": "stream",
          "name": "stdout",
          "text": [
            "Collecting git+https://github.com/ML-Challenge/learntools.git\n",
            "  Cloning https://github.com/ML-Challenge/learntools.git to /tmp/pip-req-build-ods855cb\n",
            "  Running command git clone -q https://github.com/ML-Challenge/learntools.git /tmp/pip-req-build-ods855cb\n",
            "Building wheels for collected packages: learntools\n",
            "  Building wheel for learntools (setup.py) ... \u001b[?25l\u001b[?25hdone\n",
            "  Created wheel for learntools: filename=learntools-0.3.4-py3-none-any.whl size=207310 sha256=bde6612e677cf6b627acbd491426b9ffafe0b462d8ab6502b416b231221bf36d\n",
            "  Stored in directory: /tmp/pip-ephem-wheel-cache-712znakv/wheels/5e/42/53/aa3198486cfc460e19152f9f799b8d0f549cb88f492acb6033\n",
            "Successfully built learntools\n",
            "Installing collected packages: learntools\n",
            "Successfully installed learntools-0.3.4\n",
            "setup complete!\n",
            "7.0685775\n"
          ]
        },
        {
          "output_type": "display_data",
          "data": {
            "application/javascript": [
              "parent.postMessage({\"jupyterEvent\": \"custom.exercise_interaction\", \"data\": {\"outcomeType\": 1, \"valueTowardsCompletion\": 0.25, \"interactionType\": 1, \"questionType\": 1, \"questionId\": \"1_CircleArea\", \"learnToolsVersion\": \"0.3.4\", \"failureMessage\": \"\", \"exceptionClass\": \"\", \"trace\": \"\"}}, \"*\")"
            ],
            "text/plain": [
              "<IPython.core.display.Javascript object>"
            ]
          },
          "metadata": {}
        },
        {
          "output_type": "display_data",
          "data": {
            "text/markdown": "<span style=\"color:#33cc33\">Correct</span>",
            "text/plain": [
              "Correct"
            ]
          },
          "metadata": {}
        }
      ]
    },
    {
      "cell_type": "markdown",
      "metadata": {
        "id": "tLbC2-u86VDC"
      },
      "source": [
        "# 1.\n",
        "\n",
        "Complete the body of the following function according to its docstring.\n",
        "\n",
        "HINT: Python has a built-in function `round`."
      ]
    },
    {
      "cell_type": "code",
      "metadata": {
        "colab": {
          "base_uri": "https://localhost:8080/",
          "height": 47
        },
        "id": "ZrxLs-wo6VDD",
        "outputId": "b95413d3-d74a-463e-abad-e32d180d4f9d"
      },
      "source": [
        "def round_to_two_places(num):\n",
        "    \"\"\"Return the given number rounded to two decimal places. \n",
        "    \n",
        "    >>> round_to_two_places(3.14159)\n",
        "    3.14\n",
        "    \"\"\"\n",
        "    a=round(num,2)\n",
        "    return(a)\n",
        "    # Replace this body with your own code.\n",
        "    # (\"pass\" is a keyword that does literally nothing. We used it as a placeholder\n",
        "    # because after we begin a code block, Python requires at least one line of code)\n",
        "    pass\n",
        "\n",
        "# Check your answer\n",
        "q1.check()"
      ],
      "execution_count": 2,
      "outputs": [
        {
          "output_type": "display_data",
          "data": {
            "application/javascript": [
              "parent.postMessage({\"jupyterEvent\": \"custom.exercise_interaction\", \"data\": {\"outcomeType\": 1, \"valueTowardsCompletion\": 0.25, \"interactionType\": 1, \"questionType\": 1, \"questionId\": \"1_CircleArea\", \"learnToolsVersion\": \"0.3.4\", \"failureMessage\": \"\", \"exceptionClass\": \"\", \"trace\": \"\"}}, \"*\")"
            ],
            "text/plain": [
              "<IPython.core.display.Javascript object>"
            ]
          },
          "metadata": {}
        },
        {
          "output_type": "display_data",
          "data": {
            "text/markdown": "<span style=\"color:#33cc33\">Correct</span>",
            "text/plain": [
              "Correct"
            ]
          },
          "metadata": {}
        }
      ]
    },
    {
      "cell_type": "code",
      "metadata": {
        "id": "Q8PB-sLp6VDD"
      },
      "source": [
        "# Uncomment the following for a hint\n",
        "#q1.hint()\n",
        "# Or uncomment the following to peek at the solution\n",
        "#q1.solution()"
      ],
      "execution_count": null,
      "outputs": []
    },
    {
      "cell_type": "markdown",
      "metadata": {
        "id": "_qeqx17g6VDD"
      },
      "source": [
        "# 2.\n",
        "The help for `round` says that `ndigits` (the second argument) may be negative.\n",
        "What do you think will happen when it is? Try some examples in the following cell."
      ]
    },
    {
      "cell_type": "code",
      "metadata": {
        "colab": {
          "base_uri": "https://localhost:8080/"
        },
        "id": "Nu06HGKd6VDE",
        "outputId": "41ab9494-a12b-4bdf-bda8-f1ad6980021d"
      },
      "source": [
        "round(89.0789,-2)"
      ],
      "execution_count": 4,
      "outputs": [
        {
          "output_type": "execute_result",
          "data": {
            "text/plain": [
              "100.0"
            ]
          },
          "metadata": {},
          "execution_count": 4
        }
      ]
    },
    {
      "cell_type": "markdown",
      "metadata": {
        "id": "9t9yNYc96VDE"
      },
      "source": [
        "Can you think of a case where this would be useful?  Once you're ready, run the code cell below to see the answer and to receive credit for completing the problem."
      ]
    },
    {
      "cell_type": "code",
      "metadata": {
        "colab": {
          "base_uri": "https://localhost:8080/"
        },
        "id": "Qi8a4Cdv6VDE",
        "outputId": "4f53776b-44a0-4748-8ee4-367c5adba6f4"
      },
      "source": [
        "a=round(95.7789,-1)\n",
        "print(a)\n",
        "#q2.solution()"
      ],
      "execution_count": 7,
      "outputs": [
        {
          "output_type": "stream",
          "name": "stdout",
          "text": [
            "100.0\n"
          ]
        }
      ]
    },
    {
      "cell_type": "markdown",
      "metadata": {
        "id": "Da_0jcBo6VDF"
      },
      "source": [
        "# 3.\n",
        "\n",
        "In the previous exercise, the candy-sharing friends Alice, Bob and Carol tried to split candies evenly. For the sake of their friendship, any candies left over would be smashed. For example, if they collectively bring home 91 candies, they'll take 30 each and smash 1.\n",
        "\n",
        "Below is a simple function that will calculate the number of candies to smash for *any* number of total candies.\n",
        "\n",
        "Modify it so that it optionally takes a second argument representing the number of friends the candies are being split between. If no second argument is provided, it should assume 3 friends, as before.\n",
        "\n",
        "Update the docstring to reflect this new behaviour."
      ]
    },
    {
      "cell_type": "code",
      "metadata": {
        "colab": {
          "base_uri": "https://localhost:8080/"
        },
        "id": "KG0lNZq46VDF",
        "outputId": "e562c5df-a45c-4dc2-8ade-8b1abebaab14"
      },
      "source": [
        "def to_smash(total_candies,n_friends=3):\n",
        "    \"\"\"Return the number of leftover candies that must be smashed after distributing\n",
        "    the given number of candies evenly between 3 friends.\n",
        "    \n",
        "    >>> to_smash(91)\n",
        "    1\n",
        "    \"\"\"\n",
        "    return total_candies % n_friends\n",
        "to_smash(85)\n",
        "\n",
        "# Check your answer\n",
        "#q3.check()"
      ],
      "execution_count": 10,
      "outputs": [
        {
          "output_type": "execute_result",
          "data": {
            "text/plain": [
              "1"
            ]
          },
          "metadata": {},
          "execution_count": 10
        }
      ]
    },
    {
      "cell_type": "code",
      "metadata": {
        "id": "acm6kWBn6VDG"
      },
      "source": [
        "q3.hint()"
      ],
      "execution_count": null,
      "outputs": []
    },
    {
      "cell_type": "code",
      "metadata": {
        "id": "g59Ax34z6VDG"
      },
      "source": [
        "q3.solution()"
      ],
      "execution_count": null,
      "outputs": []
    },
    {
      "cell_type": "markdown",
      "metadata": {
        "id": "sa-YIufQ6VDG"
      },
      "source": [
        "# 4. (Optional)\n",
        "\n",
        "It may not be fun, but reading and understanding error messages will be an important part of your Python career.\n",
        "\n",
        "Each code cell below contains some commented buggy code. For each cell...\n",
        "\n",
        "1. Read the code and predict what you think will happen when it's run.\n",
        "2. Then uncomment the code and run it to see what happens. (**Tip**: In the kernel editor, you can highlight several lines and press `ctrl`+`/` to toggle commenting.)\n",
        "3. Fix the code (so that it accomplishes its intended purpose without throwing an exception)\n",
        "\n",
        "<!-- TODO: should this be autochecked? Delta is probably pretty small. -->"
      ]
    },
    {
      "cell_type": "code",
      "metadata": {
        "id": "c_yuXy9c6VDH"
      },
      "source": [
        "# ruound_to_two_places(9.9999)"
      ],
      "execution_count": null,
      "outputs": []
    },
    {
      "cell_type": "code",
      "metadata": {
        "colab": {
          "base_uri": "https://localhost:8080/"
        },
        "id": "YzpSU2MQ6VDH",
        "outputId": "2e55aae4-fa21-486e-d5c6-c687723bf15c"
      },
      "source": [
        "x = -10\n",
        "y = 5\n",
        "# # Which of the two variables above has the smallest absolute value?\n",
        "# smallest_abs = min(abs(x, y))\n",
        "x=abs(x)\n",
        "smallest_abs=min(x,y)\n",
        "smallest_abs\n"
      ],
      "execution_count": 11,
      "outputs": [
        {
          "output_type": "execute_result",
          "data": {
            "text/plain": [
              "5"
            ]
          },
          "metadata": {},
          "execution_count": 11
        }
      ]
    },
    {
      "cell_type": "code",
      "metadata": {
        "colab": {
          "base_uri": "https://localhost:8080/"
        },
        "id": "15ZakvE76VDI",
        "outputId": "0f977811-7af8-4a40-d8eb-ccfcade763df"
      },
      "source": [
        "# def f(x):\n",
        "#     y = abs(x)\n",
        "# return y\n",
        "\n",
        "\n",
        "# print(f(5))\n",
        "def f(x):\n",
        "  y=abs(x)\n",
        "  return y\n",
        "print(f(5))"
      ],
      "execution_count": 12,
      "outputs": [
        {
          "output_type": "stream",
          "name": "stdout",
          "text": [
            "5\n"
          ]
        }
      ]
    }
  ]
}